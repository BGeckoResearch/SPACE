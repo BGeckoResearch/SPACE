{
 "cells": [
  {
   "cell_type": "code",
   "execution_count": null,
   "id": "c4ff1beb-ee2e-4652-9b55-3b6cf01a30c5",
   "metadata": {},
   "outputs": [],
   "source": [
    "import numpy as np  # for matrix math--useful for DMD later.\n",
    "from PIL import Image  \n",
    "import matplotlib.pyplot as plt  # used for viewing images\n",
    "import requests\n",
    "import io"
   ]
  },
  {
   "cell_type": "code",
   "execution_count": null,
   "id": "c2eb2256-8be0-47c4-b796-48facf743b65",
   "metadata": {},
   "outputs": [],
   "source": [
    "api_key = \"ENTER YOUR API KEY HERE\"\n",
    "\n",
    "#Latitude/Longitude coordinates for Houston, TX\n",
    "lat, lon = (29.551811, -95.098228)  \n",
    "date = \"ENTER THE DATE HERE (FORMAT YYYY-MM-DD)\""
   ]
  },
  {
   "cell_type": "code",
   "execution_count": null,
   "id": "6da09f79-a58a-4b01-b777-0ba7362e4b3c",
   "metadata": {},
   "outputs": [],
   "source": [
    "meta = requests.get(f\"https:/api.nasa.gov/planetary/earth/assets?lon={str(lon)}&lat={str(lat)}&date={date}&dim=0.10&api_key={api_key}\")\n",
    "meta.json()"
   ]
  },
  {
   "cell_type": "code",
   "execution_count": null,
   "id": "6c045102-f283-434c-8a62-a6492cd5d9f8",
   "metadata": {},
   "outputs": [],
   "source": [
    "image = requests.get(meta.json()['url'])\n",
    "imageStream = io.BytesIO(image.content)\n",
    "imageFile = Image.open(imageStream).resize((1024,1024)), Image.Resampling.LANCZOS)"
   ]
  },
  {
   "cell_type": "code",
   "execution_count": null,
   "id": "fd7ee7b4-35c0-4e34-852b-4f88ca3a6fd9",
   "metadata": {},
   "outputs": [],
   "source": [
    "plt.figure(figsize = (10, 10))\n",
    "plt.axis('off')\n",
    "plt.imshow(imageFile)"
   ]
  }
 ],
 "metadata": {
  "kernelspec": {
   "display_name": "Python [conda env:base] *",
   "language": "python",
   "name": "conda-base-py"
  },
  "language_info": {
   "codemirror_mode": {
    "name": "ipython",
    "version": 3
   },
   "file_extension": ".py",
   "mimetype": "text/x-python",
   "name": "python",
   "nbconvert_exporter": "python",
   "pygments_lexer": "ipython3",
   "version": "3.12.7"
  }
 },
 "nbformat": 4,
 "nbformat_minor": 5
}
