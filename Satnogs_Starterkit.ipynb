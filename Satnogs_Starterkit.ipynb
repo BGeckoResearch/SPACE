{
 "cells": [
  {
   "cell_type": "code",
   "execution_count": 7,
   "metadata": {},
   "outputs": [
    {
     "name": "stdout",
     "output_type": "stream",
     "text": [
      "Collecting glouton\n",
      "  Downloading glouton-0.12.0-py2.py3-none-any.whl.metadata (617 bytes)\n",
      "Requirement already satisfied: requests in c:\\users\\burge\\anaconda3\\lib\\site-packages (from glouton) (2.32.3)\n",
      "Requirement already satisfied: charset-normalizer<4,>=2 in c:\\users\\burge\\anaconda3\\lib\\site-packages (from requests->glouton) (3.3.2)\n",
      "Requirement already satisfied: idna<4,>=2.5 in c:\\users\\burge\\anaconda3\\lib\\site-packages (from requests->glouton) (3.7)\n",
      "Requirement already satisfied: urllib3<3,>=1.21.1 in c:\\users\\burge\\anaconda3\\lib\\site-packages (from requests->glouton) (2.2.3)\n",
      "Requirement already satisfied: certifi>=2017.4.17 in c:\\users\\burge\\anaconda3\\lib\\site-packages (from requests->glouton) (2025.1.31)\n",
      "Downloading glouton-0.12.0-py2.py3-none-any.whl (37 kB)\n",
      "Installing collected packages: glouton\n",
      "Successfully installed glouton-0.12.0\n"
     ]
    }
   ],
   "source": [
    "!pip install glouton"
   ]
  },
  {
   "cell_type": "code",
   "execution_count": 9,
   "metadata": {},
   "outputs": [],
   "source": [
    "import numpy as np\n",
    "import pandas as pd\n",
    "from binascii import hexlify,unhexlify\n",
    "from enum import Enum"
   ]
  },
  {
   "cell_type": "code",
   "execution_count": 11,
   "metadata": {},
   "outputs": [],
   "source": [
    "# get this from db.satnogs.org\n",
    "# sign up and then go to your profile at the top right and get api key\n",
    "api_key = '#######'"
   ]
  },
  {
   "cell_type": "code",
   "execution_count": 13,
   "metadata": {},
   "outputs": [],
   "source": [
    "from glouton.domain.parameters.programCmd import ProgramCmd\n",
    "from glouton.services.observation.observationsService import \\\n",
    "ObservationsService\n",
    "norad_id =43666"
   ]
  },
  {
   "cell_type": "code",
   "execution_count": 15,
   "metadata": {},
   "outputs": [
    {
     "name": "stdout",
     "output_type": "stream",
     "text": [
      "Help on class ProgramCmd in module glouton.domain.parameters.programCmd:\n",
      "\n",
      "class ProgramCmd(builtins.object)\n",
      " |  ProgramCmd(norad_id, ground_station_id, start_date, end_date, observation_status, working_dir, archives, waterfalls, demoddata, archive_modules, archive_end_modules, demoddata_modules, demoddata_end_modules, waterfall_modules, waterfall_end_modules, user, transmitter_uuid, transmitter_mode, transmitter_type, frame_modules, frame_end_modules, observer, app_source, transmitter)\n",
      " |\n",
      " |  Methods defined here:\n",
      " |\n",
      " |  __init__(self, norad_id, ground_station_id, start_date, end_date, observation_status, working_dir, archives, waterfalls, demoddata, archive_modules, archive_end_modules, demoddata_modules, demoddata_end_modules, waterfall_modules, waterfall_end_modules, user, transmitter_uuid, transmitter_mode, transmitter_type, frame_modules, frame_end_modules, observer, app_source, transmitter)\n",
      " |      Initialize self.  See help(type(self)) for accurate signature.\n",
      " |\n",
      " |  ----------------------------------------------------------------------\n",
      " |  Data descriptors defined here:\n",
      " |\n",
      " |  __dict__\n",
      " |      dictionary for instance variables\n",
      " |\n",
      " |  __weakref__\n",
      " |      list of weak references to the object\n",
      "\n"
     ]
    }
   ],
   "source": [
    "help(ProgramCmd)\n"
   ]
  },
  {
   "cell_type": "code",
   "execution_count": 14,
   "metadata": {},
   "outputs": [],
   "source": [
    "import datetime"
   ]
  },
  {
   "cell_type": "code",
   "execution_count": 15,
   "metadata": {},
   "outputs": [],
   "source": [
    "start_date =datetime.datetime(2020,1,1)\n",
    "end_date=datetime.datetime(2020,2,1)"
   ]
  },
  {
   "cell_type": "code",
   "execution_count": 26,
   "metadata": {},
   "outputs": [
    {
     "name": "stdout",
     "output_type": "stream",
     "text": [
      "Demoddata module(s) loading :\n",
      "No module list found\n"
     ]
    }
   ],
   "source": [
    "glouton_conf = ProgramCmd(norad_id=norad_id,\n",
    "                          ground_station_id=None,\n",
    "                          start_date=start_date,\n",
    "                          end_date=end_date,\n",
    "                          observation_status=None,\n",
    "                          working_dir=\".\", # You can change this if you don't want the data in your current directory\n",
    "                          archives=False,\n",
    "                          waterfalls=False,\n",
    "                          demoddata=True,\n",
    "                          archive_modules=None,\n",
    "                          demoddata_modules=None,\n",
    "                          waterfall_modules=None,\n",
    "                          user=None,\n",
    "                          transmitter_uuid=None,\n",
    "                          transmitter_mode=None,\n",
    "                          transmitter_type=None,\n",
    "                          frame_modules=None,\n",
    "                          observer=None,\n",
    "                          app_source=None,\n",
    "                          transmitter=None)\n",
    "\n",
    "obs = ObservationsService(glouton_conf)"
   ]
  },
  {
   "cell_type": "code",
   "execution_count": 27,
   "metadata": {},
   "outputs": [],
   "source": [
    "%%capture\n",
    "obs.extract();"
   ]
  },
  {
   "cell_type": "code",
   "execution_count": 1,
   "metadata": {},
   "outputs": [],
   "source": [
    "from pathlib import Path"
   ]
  },
  {
   "cell_type": "code",
   "execution_count": 2,
   "metadata": {},
   "outputs": [],
   "source": [
    "files = list(Path('./demoddata__01-01-2020T00-00-00__02-01-2020T00-00-00/').glob('*'))"
   ]
  },
  {
   "cell_type": "code",
   "execution_count": 6,
   "metadata": {},
   "outputs": [],
   "source": [
    "data=np.fromfile(str(files[0]),np.uint8)"
   ]
  },
  {
   "cell_type": "markdown",
   "metadata": {},
   "source": [
    "### You now have your data. Here is some AX25 deframing code I started"
   ]
  },
  {
   "cell_type": "code",
   "execution_count": 11,
   "metadata": {},
   "outputs": [],
   "source": [
    "FRAME_TYPES = {'0x3': 'ui_frame',\n",
    "          '0x13': 'ui_frame',\n",
    "          '0x0': 'i_frame',\n",
    "          '0x2': 'i_frame',\n",
    "          '0x10': 'i_frame',\n",
    "          '0x12': 'i_frame'}"
   ]
  },
  {
   "cell_type": "code",
   "execution_count": 71,
   "metadata": {},
   "outputs": [],
   "source": [
    "ctl = hex(data[15]&0x13)"
   ]
  },
  {
   "cell_type": "code",
   "execution_count": 73,
   "metadata": {},
   "outputs": [
    {
     "data": {
      "text/plain": [
       "True"
      ]
     },
     "execution_count": 73,
     "metadata": {},
     "output_type": "execute_result"
    }
   ],
   "source": [
    "ctl in FRAME_TYPES"
   ]
  },
  {
   "cell_type": "code",
   "execution_count": 16,
   "metadata": {},
   "outputs": [],
   "source": [
    "def extract_ax25(pkt):\n",
    "    payload = None\n",
    "    #HEADER\n",
    "    header = {}\n",
    "    header['dest_callsign'] = (data[:6]>>1).tobytes().decode('utf-8')\n",
    "    header['src_callsign']=(data[7:13]>>1).tobytes().decode('utf-8')\n",
    "    header['dest_ssid']=ssid_mask(data[6])\n",
    "    header['src_ssid']=ssid_mask(data[13])\n",
    "    header['ctl'] = hex(data[14]&0x13)\n",
    "    #PAYLOAD\n",
    "    if header['ctl'] in FRAME_TYPES:\n",
    "        if FRAME_TYPES[header['ctl']]=='i_frame':\n",
    "            payload = pkt[15:]\n",
    "        else:\n",
    "            #process data\n",
    "            payload= pkt[15:]\n",
    "    else:\n",
    "        print(header['ctl'])\n",
    "    return header,payload\n",
    "    "
   ]
  },
  {
   "cell_type": "code",
   "execution_count": 17,
   "metadata": {},
   "outputs": [],
   "source": [
    "c,p=extract_ax25(data)"
   ]
  },
  {
   "cell_type": "code",
   "execution_count": 18,
   "metadata": {},
   "outputs": [
    {
     "data": {
      "text/plain": [
       "{'dest_callsign': 'EU1XX ',\n",
       " 'src_callsign': 'EU10S ',\n",
       " 'dest_ssid': 0,\n",
       " 'src_ssid': 0,\n",
       " 'ctl': '0x3'}"
      ]
     },
     "execution_count": 18,
     "metadata": {},
     "output_type": "execute_result"
    }
   ],
   "source": [
    "c"
   ]
  }
 ],
 "metadata": {
  "kernelspec": {
   "display_name": "Python [conda env:base] *",
   "language": "python",
   "name": "conda-base-py"
  },
  "language_info": {
   "codemirror_mode": {
    "name": "ipython",
    "version": 3
   },
   "file_extension": ".py",
   "mimetype": "text/x-python",
   "name": "python",
   "nbconvert_exporter": "python",
   "pygments_lexer": "ipython3",
   "version": "3.12.7"
  }
 },
 "nbformat": 4,
 "nbformat_minor": 4
}
